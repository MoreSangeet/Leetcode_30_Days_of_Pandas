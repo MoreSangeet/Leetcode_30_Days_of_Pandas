{
 "cells": [
  {
   "cell_type": "markdown",
   "id": "6058b861-5e32-4ebc-966d-c2a31fdf9134",
   "metadata": {},
   "source": [
    "# 1683. Invalid Tweets"
   ]
  },
  {
   "cell_type": "code",
   "execution_count": null,
   "id": "5f09a5f8-fea8-419d-94ec-a10505f502a7",
   "metadata": {},
   "outputs": [],
   "source": [
    "Table: Tweets\n",
    "\n",
    "+----------------+---------+\n",
    "| Column Name    | Type    |\n",
    "+----------------+---------+\n",
    "| tweet_id       | int     |\n",
    "| content        | varchar |\n",
    "+----------------+---------+\n",
    "tweet_id is the primary key (column with unique values) for this table.\n",
    "content consists of characters on an American Keyboard, and no other special characters.\n",
    "This table contains all the tweets in a social media app.\n",
    " \n",
    "\n",
    "Write a solution to find the IDs of the invalid tweets. The tweet is invalid if the number of characters used in the content of the tweet is strictly greater than 15.\n",
    "\n",
    "Return the result table in any order.\n",
    "\n",
    "The result format is in the following example.\n",
    "\n",
    " \n",
    "\n",
    "Example 1:\n",
    "\n",
    "Input: \n",
    "Tweets table:\n",
    "+----------+-----------------------------------+\n",
    "| tweet_id | content                           |\n",
    "+----------+-----------------------------------+\n",
    "| 1        | Let us Code                       |\n",
    "| 2        | More than fifteen chars are here! |\n",
    "+----------+-----------------------------------+\n",
    "Output: \n",
    "+----------+\n",
    "| tweet_id |\n",
    "+----------+\n",
    "| 2        |\n",
    "+----------+\n",
    "Explanation: \n",
    "Tweet 1 has length = 11. It is a valid tweet.\n",
    "Tweet 2 has length = 33. It is an invalid tweet."
   ]
  },
  {
   "cell_type": "markdown",
   "id": "e7697913-727e-4c1a-9596-89eae17b3751",
   "metadata": {},
   "source": [
    "## Solution :"
   ]
  },
  {
   "cell_type": "code",
   "execution_count": null,
   "id": "65a3a800-dcd0-44f2-bf1a-88a7f19a74ba",
   "metadata": {},
   "outputs": [],
   "source": [
    "import pandas as pd\n",
    "\n",
    "def invalid_tweets(tweets: pd.DataFrame) -> pd.DataFrame:\n",
    "    return tweets[tweets['content'].str.len() > 15][['tweet_id']]"
   ]
  }
 ],
 "metadata": {
  "kernelspec": {
   "display_name": "Python 3 (ipykernel)",
   "language": "python",
   "name": "python3"
  },
  "language_info": {
   "codemirror_mode": {
    "name": "ipython",
    "version": 3
   },
   "file_extension": ".py",
   "mimetype": "text/x-python",
   "name": "python",
   "nbconvert_exporter": "python",
   "pygments_lexer": "ipython3",
   "version": "3.12.3"
  }
 },
 "nbformat": 4,
 "nbformat_minor": 5
}
