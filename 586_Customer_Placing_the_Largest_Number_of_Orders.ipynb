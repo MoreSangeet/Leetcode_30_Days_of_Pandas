{
 "cells": [
  {
   "cell_type": "markdown",
   "id": "e3e753a4-ee24-438f-a6db-bb430d20e963",
   "metadata": {},
   "source": [
    "# 586. Customer Placing the Largest Number of Orders"
   ]
  },
  {
   "cell_type": "code",
   "execution_count": null,
   "id": "50aee46e-8800-481c-a961-fea2bb0873dd",
   "metadata": {},
   "outputs": [],
   "source": [
    "Table: Orders\n",
    "\n",
    "+-----------------+----------+\n",
    "| Column Name     | Type     |\n",
    "+-----------------+----------+\n",
    "| order_number    | int      |\n",
    "| customer_number | int      |\n",
    "+-----------------+----------+\n",
    "order_number is the primary key (column with unique values) for this table.\n",
    "This table contains information about the order ID and the customer ID.\n",
    " \n",
    "\n",
    "Write a solution to find the customer_number for the customer who has placed the largest number of orders.\n",
    "\n",
    "The test cases are generated so that exactly one customer will have placed more orders than any other customer.\n",
    "\n",
    "The result format is in the following example.\n",
    "\n",
    " \n",
    "\n",
    "Example 1:\n",
    "\n",
    "Input: \n",
    "Orders table:\n",
    "+--------------+-----------------+\n",
    "| order_number | customer_number |\n",
    "+--------------+-----------------+\n",
    "| 1            | 1               |\n",
    "| 2            | 2               |\n",
    "| 3            | 3               |\n",
    "| 4            | 3               |\n",
    "+--------------+-----------------+\n",
    "Output: \n",
    "+-----------------+\n",
    "| customer_number |\n",
    "+-----------------+\n",
    "| 3               |\n",
    "+-----------------+\n",
    "Explanation: \n",
    "The customer with number 3 has two orders, which is greater than either customer 1 or 2 because each of them only has one order. \n",
    "So the result is customer_number 3.\n",
    " \n",
    "\n",
    "Follow up: What if more than one customer has the largest number of orders, can you find all the customer_number in this case?"
   ]
  },
  {
   "cell_type": "markdown",
   "id": "dce3b61a-e894-4943-a7f4-905cfc828042",
   "metadata": {},
   "source": [
    "## Solution :"
   ]
  },
  {
   "cell_type": "code",
   "execution_count": null,
   "id": "ba5b64dd-f8bf-4664-88f5-7f2f6ce20c8a",
   "metadata": {},
   "outputs": [],
   "source": [
    "import pandas as pd\n",
    "\n",
    "def largest_orders(orders: pd.DataFrame) -> pd.DataFrame:\n",
    "    return orders['customer_number'].mode().to_frame()"
   ]
  }
 ],
 "metadata": {
  "kernelspec": {
   "display_name": "Python 3 (ipykernel)",
   "language": "python",
   "name": "python3"
  },
  "language_info": {
   "codemirror_mode": {
    "name": "ipython",
    "version": 3
   },
   "file_extension": ".py",
   "mimetype": "text/x-python",
   "name": "python",
   "nbconvert_exporter": "python",
   "pygments_lexer": "ipython3",
   "version": "3.12.3"
  }
 },
 "nbformat": 4,
 "nbformat_minor": 5
}
