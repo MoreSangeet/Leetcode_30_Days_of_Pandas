{
 "cells": [
  {
   "cell_type": "markdown",
   "id": "c28ad390-1b27-4b02-9951-d8cd1e3aa08a",
   "metadata": {},
   "source": [
    "# 183. Customers Who Never Order"
   ]
  },
  {
   "cell_type": "code",
   "execution_count": null,
   "id": "f6695442-5742-4076-83f0-1272eca41fc7",
   "metadata": {},
   "outputs": [],
   "source": [
    "Table: Customers\n",
    "\n",
    "+-------------+---------+\n",
    "| Column Name | Type    |\n",
    "+-------------+---------+\n",
    "| id          | int     |\n",
    "| name        | varchar |\n",
    "+-------------+---------+\n",
    "id is the primary key (column with unique values) for this table.\n",
    "Each row of this table indicates the ID and name of a customer.\n",
    " \n",
    "\n",
    "Table: Orders\n",
    "\n",
    "+-------------+------+\n",
    "| Column Name | Type |\n",
    "+-------------+------+\n",
    "| id          | int  |\n",
    "| customerId  | int  |\n",
    "+-------------+------+\n",
    "id is the primary key (column with unique values) for this table.\n",
    "customerId is a foreign key (reference columns) of the ID from the Customers table.\n",
    "Each row of this table indicates the ID of an order and the ID of the customer who ordered it.\n",
    " \n",
    "\n",
    "Write a solution to find all customers who never order anything.\n",
    "\n",
    "Return the result table in any order.\n",
    "\n",
    "The result format is in the following example.\n",
    "\n",
    " \n",
    "\n",
    "Example 1:\n",
    "\n",
    "Input: \n",
    "Customers table:\n",
    "+----+-------+\n",
    "| id | name  |\n",
    "+----+-------+\n",
    "| 1  | Joe   |\n",
    "| 2  | Henry |\n",
    "| 3  | Sam   |\n",
    "| 4  | Max   |\n",
    "+----+-------+\n",
    "Orders table:\n",
    "+----+------------+\n",
    "| id | customerId |\n",
    "+----+------------+\n",
    "| 1  | 3          |\n",
    "| 2  | 1          |\n",
    "+----+------------+\n",
    "Output: \n",
    "+-----------+\n",
    "| Customers |\n",
    "+-----------+\n",
    "| Henry     |\n",
    "| Max       |\n",
    "+-----------+"
   ]
  },
  {
   "cell_type": "markdown",
   "id": "f32a2a2a-100a-45b6-965c-f8b88b434442",
   "metadata": {},
   "source": [
    "## Solution :"
   ]
  },
  {
   "cell_type": "code",
   "execution_count": null,
   "id": "2fb2556f-54e3-47da-bed5-3c3f38432f56",
   "metadata": {},
   "outputs": [],
   "source": [
    "import pandas as pd\n",
    "\n",
    "def find_customers(customers: pd.DataFrame, orders: pd.DataFrame) -> pd.DataFrame:\n",
    "    df = customers.merge(orders, how='left', left_on='id', right_on='customerId')[['name','customerId']]\n",
    "    df = df[df['customerId'].isna()]\n",
    "    return df[['name']].rename(columns={'name':'customers'})"
   ]
  }
 ],
 "metadata": {
  "kernelspec": {
   "display_name": "Python 3 (ipykernel)",
   "language": "python",
   "name": "python3"
  },
  "language_info": {
   "codemirror_mode": {
    "name": "ipython",
    "version": 3
   },
   "file_extension": ".py",
   "mimetype": "text/x-python",
   "name": "python",
   "nbconvert_exporter": "python",
   "pygments_lexer": "ipython3",
   "version": "3.12.3"
  }
 },
 "nbformat": 4,
 "nbformat_minor": 5
}
