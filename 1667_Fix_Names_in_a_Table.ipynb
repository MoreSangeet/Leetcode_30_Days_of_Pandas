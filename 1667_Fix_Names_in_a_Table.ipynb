{
 "cells": [
  {
   "cell_type": "markdown",
   "id": "4e418031-fa65-4073-a5a0-21e91a32e193",
   "metadata": {},
   "source": [
    "# 1667. Fix Names in a Table"
   ]
  },
  {
   "cell_type": "code",
   "execution_count": null,
   "id": "d019d504-7467-4999-a898-4cca000ba98f",
   "metadata": {},
   "outputs": [],
   "source": [
    "Table: Users\n",
    "\n",
    "+----------------+---------+\n",
    "| Column Name    | Type    |\n",
    "+----------------+---------+\n",
    "| user_id        | int     |\n",
    "| name           | varchar |\n",
    "+----------------+---------+\n",
    "user_id is the primary key (column with unique values) for this table.\n",
    "This table contains the ID and the name of the user. The name consists of only lowercase and uppercase characters.\n",
    " \n",
    "\n",
    "Write a solution to fix the names so that only the first character is uppercase and the rest are lowercase.\n",
    "\n",
    "Return the result table ordered by user_id.\n",
    "\n",
    "The result format is in the following example.\n",
    "\n",
    " \n",
    "\n",
    "Example 1:\n",
    "\n",
    "Input: \n",
    "Users table:\n",
    "+---------+-------+\n",
    "| user_id | name  |\n",
    "+---------+-------+\n",
    "| 1       | aLice |\n",
    "| 2       | bOB   |\n",
    "+---------+-------+\n",
    "Output: \n",
    "+---------+-------+\n",
    "| user_id | name  |\n",
    "+---------+-------+\n",
    "| 1       | Alice |\n",
    "| 2       | Bob   |\n",
    "+---------+-------+"
   ]
  },
  {
   "cell_type": "markdown",
   "id": "e8cff61d-745a-4c1b-99e0-9d9960fe9f27",
   "metadata": {},
   "source": [
    "# Solution :"
   ]
  },
  {
   "cell_type": "code",
   "execution_count": null,
   "id": "072a2046-25f1-4e16-9b6a-10e0d9758c4a",
   "metadata": {},
   "outputs": [],
   "source": [
    "import pandas as pd\n",
    "\n",
    "def fix_names(users: pd.DataFrame) -> pd.DataFrame:\n",
    "    users['name'] = users['name'].str.capitalize()\n",
    "    return users.sort_values(by = 'user_id')"
   ]
  }
 ],
 "metadata": {
  "kernelspec": {
   "display_name": "Python 3 (ipykernel)",
   "language": "python",
   "name": "python3"
  },
  "language_info": {
   "codemirror_mode": {
    "name": "ipython",
    "version": 3
   },
   "file_extension": ".py",
   "mimetype": "text/x-python",
   "name": "python",
   "nbconvert_exporter": "python",
   "pygments_lexer": "ipython3",
   "version": "3.12.3"
  }
 },
 "nbformat": 4,
 "nbformat_minor": 5
}
