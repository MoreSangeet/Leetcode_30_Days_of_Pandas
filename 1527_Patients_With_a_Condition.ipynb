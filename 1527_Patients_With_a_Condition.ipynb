{
 "cells": [
  {
   "cell_type": "markdown",
   "id": "a028c531-ae8d-4def-b6c4-9d4a7e8c0365",
   "metadata": {},
   "source": [
    "# 1527. Patients With a Condition"
   ]
  },
  {
   "cell_type": "code",
   "execution_count": null,
   "id": "e4029a64-b8bb-4831-a1c7-1c1350546cf4",
   "metadata": {},
   "outputs": [],
   "source": [
    "Table: Patients\n",
    "\n",
    "+--------------+---------+\n",
    "| Column Name  | Type    |\n",
    "+--------------+---------+\n",
    "| patient_id   | int     |\n",
    "| patient_name | varchar |\n",
    "| conditions   | varchar |\n",
    "+--------------+---------+\n",
    "patient_id is the primary key (column with unique values) for this table.\n",
    "'conditions' contains 0 or more code separated by spaces. \n",
    "This table contains information of the patients in the hospital.\n",
    " \n",
    "\n",
    "Write a solution to find the patient_id, patient_name, and conditions of the patients who have Type I Diabetes. Type I Diabetes always starts with DIAB1 prefix.\n",
    "\n",
    "Return the result table in any order.\n",
    "\n",
    "The result format is in the following example.\n",
    "\n",
    " \n",
    "\n",
    "Example 1:\n",
    "\n",
    "Input: \n",
    "Patients table:\n",
    "+------------+--------------+--------------+\n",
    "| patient_id | patient_name | conditions   |\n",
    "+------------+--------------+--------------+\n",
    "| 1          | Daniel       | YFEV COUGH   |\n",
    "| 2          | Alice        |              |\n",
    "| 3          | Bob          | DIAB100 MYOP |\n",
    "| 4          | George       | ACNE DIAB100 |\n",
    "| 5          | Alain        | DIAB201      |\n",
    "+------------+--------------+--------------+\n",
    "Output: \n",
    "+------------+--------------+--------------+\n",
    "| patient_id | patient_name | conditions   |\n",
    "+------------+--------------+--------------+\n",
    "| 3          | Bob          | DIAB100 MYOP |\n",
    "| 4          | George       | ACNE DIAB100 | \n",
    "+------------+--------------+--------------+\n",
    "Explanation: Bob and George both have a condition that starts with DIAB1."
   ]
  },
  {
   "cell_type": "markdown",
   "id": "c3fb765c-61eb-4a97-8dd0-8813a8d2d0ee",
   "metadata": {},
   "source": [
    "## Solution :"
   ]
  },
  {
   "cell_type": "code",
   "execution_count": null,
   "id": "2129cf3c-80dd-4973-9205-b38a13199567",
   "metadata": {},
   "outputs": [],
   "source": [
    "import pandas as pd\n",
    "\n",
    "def find_patients(patients: pd.DataFrame) -> pd.DataFrame:\n",
    "    return patients[patients['conditions'].str.contains(' DIAB1') | patients['conditions'].str.startswith('DIAB1')]"
   ]
  }
 ],
 "metadata": {
  "kernelspec": {
   "display_name": "Python 3 (ipykernel)",
   "language": "python",
   "name": "python3"
  },
  "language_info": {
   "codemirror_mode": {
    "name": "ipython",
    "version": 3
   },
   "file_extension": ".py",
   "mimetype": "text/x-python",
   "name": "python",
   "nbconvert_exporter": "python",
   "pygments_lexer": "ipython3",
   "version": "3.12.3"
  }
 },
 "nbformat": 4,
 "nbformat_minor": 5
}
