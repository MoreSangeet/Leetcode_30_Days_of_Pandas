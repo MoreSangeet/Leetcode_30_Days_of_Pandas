{
 "cells": [
  {
   "cell_type": "markdown",
   "id": "a29993c6-5647-4905-8d74-4b2f342eebb9",
   "metadata": {},
   "source": [
    "# 176. Second Highest Salary"
   ]
  },
  {
   "cell_type": "code",
   "execution_count": null,
   "id": "b18294cf-1881-4eb4-b932-792fdfd26ec3",
   "metadata": {},
   "outputs": [],
   "source": [
    "Table: Employee\n",
    "\n",
    "+-------------+------+\n",
    "| Column Name | Type |\n",
    "+-------------+------+\n",
    "| id          | int  |\n",
    "| salary      | int  |\n",
    "+-------------+------+\n",
    "id is the primary key (column with unique values) for this table.\n",
    "Each row of this table contains information about the salary of an employee.\n",
    " \n",
    "\n",
    "Write a solution to find the second highest distinct salary from the Employee table. If there is no second highest salary, return null (return None in Pandas).\n",
    "\n",
    "The result format is in the following example.\n",
    "\n",
    " \n",
    "\n",
    "Example 1:\n",
    "\n",
    "Input: \n",
    "Employee table:\n",
    "+----+--------+\n",
    "| id | salary |\n",
    "+----+--------+\n",
    "| 1  | 100    |\n",
    "| 2  | 200    |\n",
    "| 3  | 300    |\n",
    "+----+--------+\n",
    "Output: \n",
    "+---------------------+\n",
    "| SecondHighestSalary |\n",
    "+---------------------+\n",
    "| 200                 |\n",
    "+---------------------+\n",
    "Example 2:\n",
    "\n",
    "Input: \n",
    "Employee table:\n",
    "+----+--------+\n",
    "| id | salary |\n",
    "+----+--------+\n",
    "| 1  | 100    |\n",
    "+----+--------+\n",
    "Output: \n",
    "+---------------------+\n",
    "| SecondHighestSalary |\n",
    "+---------------------+\n",
    "| null                |\n",
    "+---------------------+"
   ]
  },
  {
   "cell_type": "markdown",
   "id": "0d3f5662-35d6-4b2b-97be-d48729b3e4d7",
   "metadata": {},
   "source": [
    "## Solution :"
   ]
  },
  {
   "cell_type": "code",
   "execution_count": null,
   "id": "ef75bbd9-fd56-4ac8-a485-a6ddd326c1ce",
   "metadata": {},
   "outputs": [],
   "source": [
    "import pandas as pd\n",
    "\n",
    "def second_highest_salary(employee: pd.DataFrame) -> pd.DataFrame:\n",
    "    unique_salaries = employee[['salary']].drop_duplicates().sort_values(by = 'salary', ascending = False)\n",
    "\n",
    "    if len(unique_salaries) >= 2:\n",
    "        second_highest_salary = unique_salaries.iloc[1, 0]\n",
    "    else:\n",
    "        second_highest_salary = None\n",
    "    return pd.DataFrame({'SecondHighestSalary' : [second_highest_salary]})"
   ]
  }
 ],
 "metadata": {
  "kernelspec": {
   "display_name": "Python 3 (ipykernel)",
   "language": "python",
   "name": "python3"
  },
  "language_info": {
   "codemirror_mode": {
    "name": "ipython",
    "version": 3
   },
   "file_extension": ".py",
   "mimetype": "text/x-python",
   "name": "python",
   "nbconvert_exporter": "python",
   "pygments_lexer": "ipython3",
   "version": "3.12.3"
  }
 },
 "nbformat": 4,
 "nbformat_minor": 5
}
